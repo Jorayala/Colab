{
  "nbformat": 4,
  "nbformat_minor": 0,
  "metadata": {
    "colab": {
      "provenance": [],
      "authorship_tag": "ABX9TyPTtaWJRNK2WYx3fTO1QJoo",
      "include_colab_link": true
    },
    "kernelspec": {
      "name": "python3",
      "display_name": "Python 3"
    },
    "language_info": {
      "name": "python"
    }
  },
  "cells": [
    {
      "cell_type": "markdown",
      "metadata": {
        "id": "view-in-github",
        "colab_type": "text"
      },
      "source": [
        "<a href=\"https://colab.research.google.com/github/Jorayala/Colab/blob/master/Linear_equations_Numpy.ipynb\" target=\"_parent\"><img src=\"https://colab.research.google.com/assets/colab-badge.svg\" alt=\"Open In Colab\"/></a>"
      ]
    },
    {
      "cell_type": "markdown",
      "source": [
        "Importamos libreria Numpy"
      ],
      "metadata": {
        "id": "EenDCwYAIjVa"
      }
    },
    {
      "cell_type": "code",
      "execution_count": 2,
      "metadata": {
        "id": "WaqcVMIQIbzg"
      },
      "outputs": [],
      "source": [
        "import numpy as np"
      ]
    },
    {
      "cell_type": "markdown",
      "source": [
        "Ingresamos un sistema de ecuaciones lineales"
      ],
      "metadata": {
        "id": "cX8hbTWYIrK3"
      }
    },
    {
      "cell_type": "code",
      "source": [
        "A = np.array([\n",
        "        [2, 5, 1, 1],\n",
        "        [1, 2, -1, -1],\n",
        "        [-1, 2, 2, 2],\n",
        "        [1, -1, 2, 1]\n",
        "    ], dtype=np.dtype(float))\n",
        "b = np.array([6, 3, 14, 8], dtype=np.dtype(float))\n"
      ],
      "metadata": {
        "id": "x-IrBfZ0IqAg"
      },
      "execution_count": null,
      "outputs": []
    },
    {
      "cell_type": "markdown",
      "source": [
        "Ahora usamos Numpy"
      ],
      "metadata": {
        "id": "uOUbk4PrKHbB"
      }
    },
    {
      "cell_type": "code",
      "source": [
        "# determinant of matrix A\n",
        "d = None\n",
        "d = np.linalg.det(A)\n",
        "# solution of the system of linear equations\n",
        "# with the corresponding coefficients matrix A and free coefficients b\n",
        "x = None\n",
        "x = np.linalg.solve(A, b)\n",
        "\n",
        "\n",
        "print(f\"Determinant of matrix A: {d:.2f}\")\n",
        "\n",
        "print(f\"Solution vector: {x}\")"
      ],
      "metadata": {
        "colab": {
          "base_uri": "https://localhost:8080/"
        },
        "id": "p8PCMWTFI7rC",
        "outputId": "eeb88b94-a471-4c69-ffcf-240e2d485b00"
      },
      "execution_count": null,
      "outputs": [
        {
          "output_type": "stream",
          "name": "stdout",
          "text": [
            "Determinant of matrix A: -11.00\n",
            "Solution vector: [ -7.81818182   4.63636364  22.         -23.54545455]\n"
          ]
        }
      ]
    },
    {
      "cell_type": "markdown",
      "source": [
        "Ahora multiplicacion de matrices, Mathematically, matrix multiplication is defined only if number of the columns of matrix 𝐴\n",
        " is equal to the number of the rows of matrix  𝐵"
      ],
      "metadata": {
        "id": "VSaCPPsjuPVG"
      }
    },
    {
      "cell_type": "code",
      "source": [
        "C = np.array([[4, 9, 9], [9, 1, 6], [9, 2, 3]])\n",
        "print(\"Matrix C (3 by 3):\\n\", C)\n",
        "\n",
        "D = np.array([[2, 2], [5, 7], [4, 4]])\n",
        "print(\"Matrix D (3 by 2):\\n\", D)"
      ],
      "metadata": {
        "id": "Jq2k9-MFKMdT",
        "colab": {
          "base_uri": "https://localhost:8080/"
        },
        "outputId": "0d19705d-b76e-440c-ce0c-3303cc81a3a4"
      },
      "execution_count": 4,
      "outputs": [
        {
          "output_type": "stream",
          "name": "stdout",
          "text": [
            "Matrix C (3 by 3):\n",
            " [[4 9 9]\n",
            " [9 1 6]\n",
            " [9 2 3]]\n",
            "Matrix D (3 by 2):\n",
            " [[2 2]\n",
            " [5 7]\n",
            " [4 4]]\n"
          ]
        }
      ]
    },
    {
      "cell_type": "code",
      "source": [
        "np.matmul(C, D)"
      ],
      "metadata": {
        "colab": {
          "base_uri": "https://localhost:8080/"
        },
        "id": "tXrTbg5AuFjm",
        "outputId": "0462c93d-fc0a-4e92-97b0-476d77c3ada7"
      },
      "execution_count": 5,
      "outputs": [
        {
          "output_type": "execute_result",
          "data": {
            "text/plain": [
              "array([[ 89, 107],\n",
              "       [ 47,  49],\n",
              "       [ 40,  44]])"
            ]
          },
          "metadata": {},
          "execution_count": 5
        }
      ]
    },
    {
      "cell_type": "code",
      "source": [
        "C @ D"
      ],
      "metadata": {
        "colab": {
          "base_uri": "https://localhost:8080/"
        },
        "id": "Q-IgvgjGuunL",
        "outputId": "4e89dafd-80c7-4506-d065-5ba27140cbc0"
      },
      "execution_count": 6,
      "outputs": [
        {
          "output_type": "execute_result",
          "data": {
            "text/plain": [
              "array([[ 89, 107],\n",
              "       [ 47,  49],\n",
              "       [ 40,  44]])"
            ]
          },
          "metadata": {},
          "execution_count": 6
        }
      ]
    },
    {
      "cell_type": "markdown",
      "source": [
        "Ahora linear transformation"
      ],
      "metadata": {
        "id": "ADVrocoa0SDQ"
      }
    },
    {
      "cell_type": "code",
      "source": [
        "import numpy as np\n",
        "# OpenCV library for image transformations.\n",
        "import cv2"
      ],
      "metadata": {
        "id": "oPUawC_xu7we"
      },
      "execution_count": null,
      "outputs": []
    },
    {
      "cell_type": "code",
      "source": [
        "M = np.array([[1, 2, -1], [1, 0, 1], [0, 1, 0]])\n",
        "print(\"Matrix C (3 by 3):\\n\", M)"
      ],
      "metadata": {
        "colab": {
          "base_uri": "https://localhost:8080/"
        },
        "id": "HsU85XtBTSwe",
        "outputId": "6d40b282-3d3d-4b13-8a03-ada2b6b1e321"
      },
      "execution_count": 3,
      "outputs": [
        {
          "output_type": "stream",
          "name": "stdout",
          "text": [
            "Matrix C (3 by 3):\n",
            " [[ 1  2 -1]\n",
            " [ 1  0  1]\n",
            " [ 0  1  0]]\n"
          ]
        }
      ]
    },
    {
      "cell_type": "code",
      "source": [
        "np.linalg.det(M)"
      ],
      "metadata": {
        "colab": {
          "base_uri": "https://localhost:8080/"
        },
        "id": "D83pQYXxCNac",
        "outputId": "f2a87875-0efe-4c92-a6f1-0d6fe5471a23"
      },
      "execution_count": 5,
      "outputs": [
        {
          "output_type": "execute_result",
          "data": {
            "text/plain": [
              "-2.0"
            ]
          },
          "metadata": {},
          "execution_count": 5
        }
      ]
    },
    {
      "cell_type": "code",
      "source": [
        "np.linalg.inv(M)"
      ],
      "metadata": {
        "colab": {
          "base_uri": "https://localhost:8080/"
        },
        "id": "MBspJckKCZB8",
        "outputId": "4448ab8a-c7d3-42fa-f3e4-c8941f447a89"
      },
      "execution_count": 6,
      "outputs": [
        {
          "output_type": "execute_result",
          "data": {
            "text/plain": [
              "array([[ 0.5,  0.5, -1. ],\n",
              "       [-0. , -0. ,  1. ],\n",
              "       [-0.5,  0.5,  1. ]])"
            ]
          },
          "metadata": {},
          "execution_count": 6
        }
      ]
    },
    {
      "cell_type": "code",
      "source": [
        "v1 = np.array([3, 1, -7])\n",
        "\n",
        "v2 = np.array([2, 2, 0])"
      ],
      "metadata": {
        "id": "9-GE3ok5DMOT"
      },
      "execution_count": 8,
      "outputs": []
    },
    {
      "cell_type": "code",
      "source": [
        "v1@v2"
      ],
      "metadata": {
        "colab": {
          "base_uri": "https://localhost:8080/"
        },
        "id": "zMFbdrjDEg4T",
        "outputId": "1952d84d-c5a9-4007-dd36-7b23cb7b1446"
      },
      "execution_count": 9,
      "outputs": [
        {
          "output_type": "execute_result",
          "data": {
            "text/plain": [
              "8"
            ]
          },
          "metadata": {},
          "execution_count": 9
        }
      ]
    },
    {
      "cell_type": "code",
      "source": [
        "X = np.array([[5, 2, 3], [-1, -3, 2], [0, 1, -1]])\n",
        "print(\"Matrix C (3 by 3):\\n\", X)\n",
        "Y = np.array([[1, 0, -4], [2, 1, 0], [8, -1, 0]])\n",
        "print(\"Matrix C (3 by 3):\\n\", Y)"
      ],
      "metadata": {
        "colab": {
          "base_uri": "https://localhost:8080/"
        },
        "id": "2FXIAdDfEn5w",
        "outputId": "7bbd373a-e700-46bc-c8dc-4bc36d40affe"
      },
      "execution_count": 10,
      "outputs": [
        {
          "output_type": "stream",
          "name": "stdout",
          "text": [
            "Matrix C (3 by 3):\n",
            " [[ 5  2  3]\n",
            " [-1 -3  2]\n",
            " [ 0  1 -1]]\n",
            "Matrix C (3 by 3):\n",
            " [[ 1  0 -4]\n",
            " [ 2  1  0]\n",
            " [ 8 -1  0]]\n"
          ]
        }
      ]
    },
    {
      "cell_type": "code",
      "source": [
        "X@Y\n"
      ],
      "metadata": {
        "colab": {
          "base_uri": "https://localhost:8080/"
        },
        "id": "qsIYo8FNFayV",
        "outputId": "6134052b-82ae-4068-f8b9-de4b719e3332"
      },
      "execution_count": 14,
      "outputs": [
        {
          "output_type": "execute_result",
          "data": {
            "text/plain": [
              "array([[ 33,  -1, -20],\n",
              "       [  9,  -5,   4],\n",
              "       [ -6,   2,   0]])"
            ]
          },
          "metadata": {},
          "execution_count": 14
        }
      ]
    },
    {
      "cell_type": "code",
      "source": [
        "np.linalg.det(np.linalg.inv(X@Y))\n"
      ],
      "metadata": {
        "colab": {
          "base_uri": "https://localhost:8080/"
        },
        "id": "Ohdp3i5QFfzz",
        "outputId": "1c4f6038-6530-44cb-c9cc-f9fab00bc115"
      },
      "execution_count": 15,
      "outputs": [
        {
          "output_type": "execute_result",
          "data": {
            "text/plain": [
              "0.0"
            ]
          },
          "metadata": {},
          "execution_count": 15
        }
      ]
    },
    {
      "cell_type": "code",
      "source": [],
      "metadata": {
        "id": "hf6cpmtvGAA8"
      },
      "execution_count": null,
      "outputs": []
    }
  ]
}